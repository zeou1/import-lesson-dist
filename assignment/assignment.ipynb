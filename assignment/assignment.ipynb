{
  "cells": [
    {
      "cell_type": "markdown",
      "id": "dbd45f04",
      "metadata": {},
      "source": [
        "## Introduction to `import` in python\n",
        "\n",
        "As you read this notebook, evaluate each cell and make sure you understand why it gave the output it gave.\n",
        "\n",
        "Normally, when code in a python file refers to a variable, class, function, or any other object, that object must be defined in the same file. If it isn’t, you get an error message."
      ]
    },
    {
      "cell_type": "markdown",
      "id": "a2d5efa5",
      "metadata": {},
      "source": [
        "### Importing from a file located in the same directory as the importing script\n",
        "The Python “import” system exists so that you can refer to objects that are defined in different files. For purposes of import, a file is called a module. Import imports modules or specific objects from modules. For example:"
      ]
    },
    {
      "cell_type": "code",
      "execution_count": 1,
      "id": "703c085d",
      "metadata": {},
      "outputs": [
        {
          "name": "stdout",
          "output_type": "stream",
          "text": [
            "my_function ran.\n"
          ]
        }
      ],
      "source": [
        "import file1\n",
        "file1.my_function()"
      ]
    },
    {
      "cell_type": "markdown",
      "id": "77d7c8e3",
      "metadata": {},
      "source": [
        "If there is file called`file1`in the same directory when this script executes and `file1`contains a definition for my_function, your script can reference that function as file1.my_function. You need the`file1`because the objects in defined in`file1`are imported into a separate namespace, which you can specify with the prefix `file1.`. This prevents objects defined in`file1`that have the same name as objects defined in your script from over-writing their definitions. For example, if your script and both`file1`both define a variable called `output_path`, they can be referenced as `output_path` and `file1.output_path`, respectively. This is especially important when youo import a big package such as numpy, which may have thousands of definitions. \n",
        "If you reference objects from an imported module frequently or if the module has a long name, you can give it a shorthand name like this."
      ]
    },
    {
      "cell_type": "code",
      "execution_count": 2,
      "id": "88ea24e5",
      "metadata": {},
      "outputs": [
        {
          "name": "stdout",
          "output_type": "stream",
          "text": [
            "my_function ran.\n"
          ]
        }
      ],
      "source": [
        "import file1 as f1\n",
        "f1.my_function()"
      ]
    },
    {
      "cell_type": "markdown",
      "id": "c56de266",
      "metadata": {},
      "source": [
        "Now you reference `my_function` as `f1.my_function` instead of `file1.my_function`. If you don’t want to have to use even `f1` you can use this alternative syntax."
      ]
    },
    {
      "cell_type": "code",
      "execution_count": 3,
      "id": "2d126047",
      "metadata": {},
      "outputs": [
        {
          "name": "stdout",
          "output_type": "stream",
          "text": [
            "my_function ran.\n"
          ]
        }
      ],
      "source": [
        "from file1 import my_function\n",
        "my_function()"
      ]
    },
    {
      "cell_type": "markdown",
      "id": "b522b9cb",
      "metadata": {},
      "source": [
        "This actually changes two things. First, it imports `my_function` into the global namespace, which means you don’t need to prefix it with anything. Second, it only imports `my_function`, not other objects defined in `file1`. You can add as many functions or other objects at the end of the statement as you like:"
      ]
    },
    {
      "cell_type": "code",
      "execution_count": 4,
      "id": "fdda865f",
      "metadata": {},
      "outputs": [
        {
          "ename": "ImportError",
          "evalue": "cannot import name 'bears' from 'file1' (/workspaces/import-lesson-dist/assignment/file1.py)",
          "output_type": "error",
          "traceback": [
            "\u001b[0;31m---------------------------------------------------------------------------\u001b[0m",
            "\u001b[0;31mImportError\u001b[0m                               Traceback (most recent call last)",
            "Cell \u001b[0;32mIn[4], line 1\u001b[0m\n\u001b[0;32m----> 1\u001b[0m \u001b[38;5;28;01mfrom\u001b[39;00m\u001b[38;5;250m \u001b[39m\u001b[38;5;21;01mfile1\u001b[39;00m\u001b[38;5;250m \u001b[39m\u001b[38;5;28;01mimport\u001b[39;00m my_function, lions, tigers, bears\n\u001b[1;32m      2\u001b[0m my_function()\n\u001b[1;32m      3\u001b[0m lions\n",
            "\u001b[0;31mImportError\u001b[0m: cannot import name 'bears' from 'file1' (/workspaces/import-lesson-dist/assignment/file1.py)"
          ]
        }
      ],
      "source": [
        "from file1 import my_function, lions, tigers, bears\n",
        "my_function()\n",
        "lions\n",
        "tigers"
      ]
    },
    {
      "cell_type": "markdown",
      "id": "3dc27839",
      "metadata": {},
      "source": [
        "This gives an error because `bears` is not defined in file1. You could have anticipated this because of the text coloring. The available functions appear in yellow, `tigers` is in blue because it's defined as a variable rather than a function, and `bears` is in gray because it is not defined in `file1`. If we leave `bears` out of the import, there is no error."
      ]
    },
    {
      "cell_type": "code",
      "execution_count": 5,
      "id": "34bcfa51",
      "metadata": {},
      "outputs": [
        {
          "name": "stdout",
          "output_type": "stream",
          "text": [
            "my_function ran.\n"
          ]
        },
        {
          "data": {
            "text/plain": [
              "27"
            ]
          },
          "execution_count": 5,
          "metadata": {},
          "output_type": "execute_result"
        }
      ],
      "source": [
        "from file1 import my_function, lions, tigers\n",
        "my_function()\n",
        "lions\n",
        "tigers"
      ]
    },
    {
      "cell_type": "markdown",
      "id": "20bd5679",
      "metadata": {},
      "source": [
        "You can even do:"
      ]
    },
    {
      "cell_type": "code",
      "execution_count": 6,
      "id": "4c42a3e3",
      "metadata": {},
      "outputs": [],
      "source": [
        "from file1 import *"
      ]
    },
    {
      "cell_type": "markdown",
      "id": "3b4c8b2a",
      "metadata": {},
      "source": [
        "which imports everything defined in file1. However, that is bad practice because you could be importing hundreds of objects some of which might overwrite other things in your global namespace."
      ]
    },
    {
      "cell_type": "markdown",
      "id": "0c4bb92e",
      "metadata": {},
      "source": [
        "### Importing from a file in subdirectory"
      ]
    },
    {
      "cell_type": "markdown",
      "id": "c6a9835e",
      "metadata": {},
      "source": [
        "So far, we have discussed importing a module, `file1`, that is present in the same directory as the importing script. If `file2`is in a subdirectory of the importing script, `subdir1/file2`, then you must specify the path like this:"
      ]
    },
    {
      "cell_type": "code",
      "execution_count": 7,
      "id": "48534592",
      "metadata": {},
      "outputs": [
        {
          "data": {
            "text/plain": [
              "113"
            ]
          },
          "execution_count": 7,
          "metadata": {},
          "output_type": "execute_result"
        }
      ],
      "source": [
        "import subdir1.file2\n",
        "subdir1.file2.bears"
      ]
    },
    {
      "cell_type": "markdown",
      "id": "8c67c6d3",
      "metadata": {},
      "source": [
        "In that case, you have to refer to the imported objects using the full module path (or use the `from` syntax). If the file is multiple levels deep, you can use the dot just like you would use slash in a unix pathname. E.g., `import subdir1.subdir2.file3`."
      ]
    },
    {
      "cell_type": "markdown",
      "id": "6f4815ac",
      "metadata": {},
      "source": [
        "### Importing from other locations"
      ]
    },
    {
      "cell_type": "markdown",
      "id": "bba10f3f",
      "metadata": {},
      "source": [
        "The most common kind of import is from a package such as numpy, which provides efficient functions and data structures for numerical computation, including array handling. These packages are not installed in the same directory tree as your code. When executing an `import` statement, python searches for the module to import in the directories listed in the value of the variable `sys.path`."
      ]
    },
    {
      "cell_type": "code",
      "execution_count": 8,
      "id": "8718c6ba",
      "metadata": {},
      "outputs": [
        {
          "name": "stdout",
          "output_type": "stream",
          "text": [
            "['/usr/lib/python310.zip', '/usr/lib/python3.10', '/usr/lib/python3.10/lib-dynload', '', '/workspaces/import-lesson-dist/.venv/lib/python3.10/site-packages']\n"
          ]
        }
      ],
      "source": [
        "import sys\n",
        "print(sys.path)"
      ]
    },
    {
      "cell_type": "markdown",
      "id": "63edd72a",
      "metadata": {},
      "source": [
        "`import` searches them in the order in which they are listed and stops as soon as it finds the module. The empty string, `''` represents python's the current working directory. If you're running a script file, `sys.path` will also contain the directory the script is defined in. In this notebook, they are the same. Finally, `sys.path` contains directories where python and any external packages you have installed are located. However, a package like numpy will not be present in any of those directories unless you have first installed it. If you have not installed it, the import statement will return with an error.  One of the most common imports you will see (at least in scientific computing) is:"
      ]
    },
    {
      "cell_type": "code",
      "execution_count": 9,
      "id": "5ab1c76f",
      "metadata": {},
      "outputs": [],
      "source": [
        "import numpy as np"
      ]
    },
    {
      "cell_type": "markdown",
      "id": "16138dfd",
      "metadata": {},
      "source": [
        "In this case, it is already installed because that's how we set up the virtual environment using `poetry` -- more on that later. This import makes a large number of functions available but you still have to access them with the namespace prefix `np`."
      ]
    },
    {
      "cell_type": "code",
      "execution_count": 10,
      "id": "7587baf5",
      "metadata": {},
      "outputs": [
        {
          "data": {
            "text/plain": [
              "array([1, 2, 3])"
            ]
          },
          "execution_count": 10,
          "metadata": {},
          "output_type": "execute_result"
        }
      ],
      "source": [
        "np.array([1,2,3])"
      ]
    },
    {
      "cell_type": "markdown",
      "id": "26006eff",
      "metadata": {},
      "source": [
        "Since `pandas` is not installed in this environment, this will give an error: "
      ]
    },
    {
      "cell_type": "code",
      "execution_count": 11,
      "id": "42941b9c",
      "metadata": {},
      "outputs": [
        {
          "ename": "ModuleNotFoundError",
          "evalue": "No module named 'pandas'",
          "output_type": "error",
          "traceback": [
            "\u001b[0;31m---------------------------------------------------------------------------\u001b[0m",
            "\u001b[0;31mModuleNotFoundError\u001b[0m                       Traceback (most recent call last)",
            "Cell \u001b[0;32mIn[11], line 1\u001b[0m\n\u001b[0;32m----> 1\u001b[0m \u001b[38;5;28;01mimport\u001b[39;00m\u001b[38;5;250m \u001b[39m\u001b[38;5;21;01mpandas\u001b[39;00m\u001b[38;5;250m \u001b[39m\u001b[38;5;28;01mas\u001b[39;00m\u001b[38;5;250m \u001b[39m\u001b[38;5;21;01mpd\u001b[39;00m\n",
            "\u001b[0;31mModuleNotFoundError\u001b[0m: No module named 'pandas'"
          ]
        }
      ],
      "source": [
        "import pandas as pd"
      ]
    },
    {
      "cell_type": "markdown",
      "id": "a1332cf1",
      "metadata": {},
      "source": [
        "### Importing packages\n",
        "So far, we have talked about importing specific files (\"modules\") or specific functions from within modules. However, a package like numpy may contain hundreds of files and we don't want to know which file each of the functions is defined in. That problem is solved by packages, which are directories set up in a such as that many objects defined within them can be imported at once. This is done by adding a file called `__init__.py` to the top level directory. That file will automatically be run when the package is imported. One of the most common uses of it is to import functions from files (modules) in the package's directory tree. That way, users who import the package don't have to know which files those packages are defined in."
      ]
    },
    {
      "cell_type": "markdown",
      "id": "11663a36",
      "metadata": {},
      "source": [
        "### Assignment\n",
        "As always, open the file `assignment/assignment.py` and follow the directions there, which ask you to import from various files and directories, some of which you have to create. Remember the tests are located in `assignment/test_assignment.py` and can be run by clicking on the flask icon at left and then the double right-arrow at the top of the testing panel. Make sure you pass all the tests before you turn in the assignment. "
      ]
    },
    {
      "cell_type": "markdown",
      "id": "350383bd",
      "metadata": {},
      "source": []
    }
  ],
  "metadata": {
    "kernelspec": {
      "display_name": "non-package-mode-py3.10",
      "language": "python",
      "name": "python3"
    },
    "language_info": {
      "codemirror_mode": {
        "name": "ipython",
        "version": 3
      },
      "file_extension": ".py",
      "mimetype": "text/x-python",
      "name": "python",
      "nbconvert_exporter": "python",
      "pygments_lexer": "ipython3",
      "version": "3.10.12"
    }
  },
  "nbformat": 4,
  "nbformat_minor": 5
}
